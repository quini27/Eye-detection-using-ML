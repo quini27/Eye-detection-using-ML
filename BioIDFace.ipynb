{
 "cells": [
  {
   "cell_type": "markdown",
   "metadata": {},
   "source": [
    "# BioIDFace Notebook\n",
    "\n",
    "### Notebook to implement a regression algorithm using the BioID Face database\n",
    "http://www.bioid.com/support/downloads/software/bioid-face-database.html\n",
    "#### It has 1521 files in pgm format. The dataset consists of 1521 gray level images with a resolution of\n",
    "#### 384x286 pixel. Every picture shows the frontal view of a face of one out of\n",
    "#### 23 different test persons. They are labeled with the coordinates of the left eye and of the right eye"
   ]
  },
  {
   "cell_type": "code",
   "execution_count": 12,
   "metadata": {},
   "outputs": [],
   "source": [
    "import pandas as pd\n",
    "import numpy as np"
   ]
  },
  {
   "cell_type": "markdown",
   "metadata": {},
   "source": [
    "## Formatting the dataframe"
   ]
  },
  {
   "cell_type": "code",
   "execution_count": 13,
   "metadata": {},
   "outputs": [],
   "source": [
    "#function that returns a string with the integer passed as argument with four characters, with as many leading '0' as necessary\n",
    "def nome(i):\n",
    "    nz=3\n",
    "    s=i\n",
    "    for j in range(3):\n",
    "        s//=10\n",
    "        if s!=0:\n",
    "            nz-=1\n",
    "    sr='0'*nz+str(i)\n",
    "    return sr"
   ]
  },
  {
   "cell_type": "code",
   "execution_count": 14,
   "metadata": {},
   "outputs": [],
   "source": [
    "#number of pictures in the data file\n",
    "npictures=1521"
   ]
  },
  {
   "cell_type": "code",
   "execution_count": 15,
   "metadata": {},
   "outputs": [],
   "source": [
    "# reading the data base to put the pixels of the pictures in a matrix denoted as Pic\n",
    "nbytes=384*286+15     #number of bytes of every file: 15 bytes of header + 384*286 pixels\n",
    "Pic=np.zeros((npictures,nbytes)).astype(\"uint8\") \n",
    "for i in range(npictures):\n",
    " Pic[i]=np.fromfile('BioID-FaceDatabase-V1.2/BioID_'+nome(i)+'.pgm', dtype=np.uint8, count=-1, sep='')\n",
    "\n",
    "#deleting the header of each file\n",
    "Pic=Pic[:,15:]"
   ]
  },
  {
   "cell_type": "code",
   "execution_count": 16,
   "metadata": {},
   "outputs": [
    {
     "data": {
      "text/plain": [
       "(1521, 109824)"
      ]
     },
     "execution_count": 16,
     "metadata": {},
     "output_type": "execute_result"
    }
   ],
   "source": [
    "Pic.shape"
   ]
  },
  {
   "cell_type": "code",
   "execution_count": 17,
   "metadata": {},
   "outputs": [],
   "source": [
    "#reading the data base with the positions of the eyes to put the coordinates in a matrix denoted as Pos\n",
    "Pos=np.zeros((npictures,4)).astype(\"uint16\")\n",
    "for i in range(npictures):\n",
    "    f=open('BioID-FaceDatabase-V1.2/BioID_'+nome(i)+'.eye')\n",
    "    f.readline()            #read the first line with #LX LY RX RY\n",
    "    s=f.readline()          #read the second line with the four coordinates\n",
    "    k=''\n",
    "    #num=[0]*4\n",
    "    j=0\n",
    "    for l in range(len(s)):\n",
    "        if s[l]!='\\t' and s[l]!='\\n':\n",
    "            k+=s[l]\n",
    "        else:\n",
    "            Pos[i,j]=int(k)\n",
    "            k=''\n",
    "            j+=1"
   ]
  },
  {
   "cell_type": "code",
   "execution_count": 18,
   "metadata": {},
   "outputs": [
    {
     "name": "stdout",
     "output_type": "stream",
     "text": [
      "[182  72 132  72]\n"
     ]
    }
   ],
   "source": [
    "print(Pos[356])"
   ]
  },
  {
   "cell_type": "markdown",
   "metadata": {},
   "source": [
    "### Dataframe"
   ]
  },
  {
   "cell_type": "code",
   "execution_count": 12,
   "metadata": {},
   "outputs": [],
   "source": [
    "namecolumn=pd.Series(range(len(Pic.T))).astype(\"str\")\n",
    "for i in range(len(Pic.T)):\n",
    "    namecolumn[i]=\"pixel\"+str(i)"
   ]
  },
  {
   "cell_type": "code",
   "execution_count": 13,
   "metadata": {},
   "outputs": [
    {
     "data": {
      "text/plain": [
       "array(['pixel0', 'pixel1', 'pixel2', ..., 'pixel109821', 'pixel109822',\n",
       "       'pixel109823'], dtype=object)"
      ]
     },
     "execution_count": 13,
     "metadata": {},
     "output_type": "execute_result"
    }
   ],
   "source": [
    "namecolumn.values"
   ]
  },
  {
   "cell_type": "code",
   "execution_count": 14,
   "metadata": {},
   "outputs": [],
   "source": [
    "df_BioIdFace=pd.DataFrame(Pic,columns=namecolumn)\n",
    "df_BioIdFace['LX']=Pos[:,0]\n",
    "df_BioIdFace['LY']=Pos[:,1]\n",
    "df_BioIdFace['RX']=Pos[:,2]\n",
    "df_BioIdFace['RY']=Pos[:,3]"
   ]
  },
  {
   "cell_type": "code",
   "execution_count": 15,
   "metadata": {},
   "outputs": [
    {
     "data": {
      "text/html": [
       "<div>\n",
       "<style scoped>\n",
       "    .dataframe tbody tr th:only-of-type {\n",
       "        vertical-align: middle;\n",
       "    }\n",
       "\n",
       "    .dataframe tbody tr th {\n",
       "        vertical-align: top;\n",
       "    }\n",
       "\n",
       "    .dataframe thead th {\n",
       "        text-align: right;\n",
       "    }\n",
       "</style>\n",
       "<table border=\"1\" class=\"dataframe\">\n",
       "  <thead>\n",
       "    <tr style=\"text-align: right;\">\n",
       "      <th></th>\n",
       "      <th>pixel0</th>\n",
       "      <th>pixel1</th>\n",
       "      <th>pixel2</th>\n",
       "      <th>pixel3</th>\n",
       "      <th>pixel4</th>\n",
       "      <th>pixel5</th>\n",
       "      <th>pixel6</th>\n",
       "      <th>pixel7</th>\n",
       "      <th>pixel8</th>\n",
       "      <th>pixel9</th>\n",
       "      <th>...</th>\n",
       "      <th>pixel109818</th>\n",
       "      <th>pixel109819</th>\n",
       "      <th>pixel109820</th>\n",
       "      <th>pixel109821</th>\n",
       "      <th>pixel109822</th>\n",
       "      <th>pixel109823</th>\n",
       "      <th>LX</th>\n",
       "      <th>LY</th>\n",
       "      <th>RX</th>\n",
       "      <th>RY</th>\n",
       "    </tr>\n",
       "  </thead>\n",
       "  <tbody>\n",
       "    <tr>\n",
       "      <th>30</th>\n",
       "      <td>116</td>\n",
       "      <td>162</td>\n",
       "      <td>162</td>\n",
       "      <td>160</td>\n",
       "      <td>161</td>\n",
       "      <td>159</td>\n",
       "      <td>161</td>\n",
       "      <td>162</td>\n",
       "      <td>161</td>\n",
       "      <td>162</td>\n",
       "      <td>...</td>\n",
       "      <td>115</td>\n",
       "      <td>116</td>\n",
       "      <td>117</td>\n",
       "      <td>119</td>\n",
       "      <td>96</td>\n",
       "      <td>55</td>\n",
       "      <td>209</td>\n",
       "      <td>117</td>\n",
       "      <td>152</td>\n",
       "      <td>121</td>\n",
       "    </tr>\n",
       "    <tr>\n",
       "      <th>668</th>\n",
       "      <td>96</td>\n",
       "      <td>152</td>\n",
       "      <td>154</td>\n",
       "      <td>155</td>\n",
       "      <td>156</td>\n",
       "      <td>157</td>\n",
       "      <td>158</td>\n",
       "      <td>161</td>\n",
       "      <td>162</td>\n",
       "      <td>163</td>\n",
       "      <td>...</td>\n",
       "      <td>120</td>\n",
       "      <td>120</td>\n",
       "      <td>119</td>\n",
       "      <td>122</td>\n",
       "      <td>89</td>\n",
       "      <td>34</td>\n",
       "      <td>211</td>\n",
       "      <td>120</td>\n",
       "      <td>154</td>\n",
       "      <td>116</td>\n",
       "    </tr>\n",
       "    <tr>\n",
       "      <th>98</th>\n",
       "      <td>64</td>\n",
       "      <td>74</td>\n",
       "      <td>62</td>\n",
       "      <td>59</td>\n",
       "      <td>57</td>\n",
       "      <td>58</td>\n",
       "      <td>59</td>\n",
       "      <td>59</td>\n",
       "      <td>57</td>\n",
       "      <td>56</td>\n",
       "      <td>...</td>\n",
       "      <td>200</td>\n",
       "      <td>197</td>\n",
       "      <td>192</td>\n",
       "      <td>190</td>\n",
       "      <td>142</td>\n",
       "      <td>58</td>\n",
       "      <td>233</td>\n",
       "      <td>114</td>\n",
       "      <td>170</td>\n",
       "      <td>115</td>\n",
       "    </tr>\n",
       "    <tr>\n",
       "      <th>280</th>\n",
       "      <td>67</td>\n",
       "      <td>80</td>\n",
       "      <td>68</td>\n",
       "      <td>66</td>\n",
       "      <td>64</td>\n",
       "      <td>63</td>\n",
       "      <td>66</td>\n",
       "      <td>67</td>\n",
       "      <td>65</td>\n",
       "      <td>61</td>\n",
       "      <td>...</td>\n",
       "      <td>151</td>\n",
       "      <td>158</td>\n",
       "      <td>156</td>\n",
       "      <td>151</td>\n",
       "      <td>120</td>\n",
       "      <td>46</td>\n",
       "      <td>242</td>\n",
       "      <td>122</td>\n",
       "      <td>196</td>\n",
       "      <td>117</td>\n",
       "    </tr>\n",
       "    <tr>\n",
       "      <th>1518</th>\n",
       "      <td>122</td>\n",
       "      <td>184</td>\n",
       "      <td>185</td>\n",
       "      <td>186</td>\n",
       "      <td>190</td>\n",
       "      <td>186</td>\n",
       "      <td>186</td>\n",
       "      <td>174</td>\n",
       "      <td>153</td>\n",
       "      <td>139</td>\n",
       "      <td>...</td>\n",
       "      <td>88</td>\n",
       "      <td>84</td>\n",
       "      <td>87</td>\n",
       "      <td>91</td>\n",
       "      <td>69</td>\n",
       "      <td>36</td>\n",
       "      <td>228</td>\n",
       "      <td>141</td>\n",
       "      <td>157</td>\n",
       "      <td>135</td>\n",
       "    </tr>\n",
       "    <tr>\n",
       "      <th>710</th>\n",
       "      <td>73</td>\n",
       "      <td>109</td>\n",
       "      <td>106</td>\n",
       "      <td>107</td>\n",
       "      <td>107</td>\n",
       "      <td>111</td>\n",
       "      <td>112</td>\n",
       "      <td>110</td>\n",
       "      <td>111</td>\n",
       "      <td>110</td>\n",
       "      <td>...</td>\n",
       "      <td>7</td>\n",
       "      <td>7</td>\n",
       "      <td>9</td>\n",
       "      <td>13</td>\n",
       "      <td>9</td>\n",
       "      <td>1</td>\n",
       "      <td>259</td>\n",
       "      <td>96</td>\n",
       "      <td>184</td>\n",
       "      <td>90</td>\n",
       "    </tr>\n",
       "    <tr>\n",
       "      <th>77</th>\n",
       "      <td>118</td>\n",
       "      <td>156</td>\n",
       "      <td>152</td>\n",
       "      <td>152</td>\n",
       "      <td>149</td>\n",
       "      <td>148</td>\n",
       "      <td>151</td>\n",
       "      <td>148</td>\n",
       "      <td>150</td>\n",
       "      <td>152</td>\n",
       "      <td>...</td>\n",
       "      <td>104</td>\n",
       "      <td>104</td>\n",
       "      <td>106</td>\n",
       "      <td>107</td>\n",
       "      <td>89</td>\n",
       "      <td>53</td>\n",
       "      <td>235</td>\n",
       "      <td>143</td>\n",
       "      <td>150</td>\n",
       "      <td>147</td>\n",
       "    </tr>\n",
       "    <tr>\n",
       "      <th>241</th>\n",
       "      <td>65</td>\n",
       "      <td>94</td>\n",
       "      <td>88</td>\n",
       "      <td>86</td>\n",
       "      <td>81</td>\n",
       "      <td>83</td>\n",
       "      <td>81</td>\n",
       "      <td>83</td>\n",
       "      <td>88</td>\n",
       "      <td>82</td>\n",
       "      <td>...</td>\n",
       "      <td>200</td>\n",
       "      <td>207</td>\n",
       "      <td>205</td>\n",
       "      <td>196</td>\n",
       "      <td>156</td>\n",
       "      <td>55</td>\n",
       "      <td>251</td>\n",
       "      <td>98</td>\n",
       "      <td>202</td>\n",
       "      <td>98</td>\n",
       "    </tr>\n",
       "    <tr>\n",
       "      <th>1450</th>\n",
       "      <td>128</td>\n",
       "      <td>218</td>\n",
       "      <td>234</td>\n",
       "      <td>234</td>\n",
       "      <td>236</td>\n",
       "      <td>242</td>\n",
       "      <td>234</td>\n",
       "      <td>238</td>\n",
       "      <td>236</td>\n",
       "      <td>234</td>\n",
       "      <td>...</td>\n",
       "      <td>23</td>\n",
       "      <td>17</td>\n",
       "      <td>72</td>\n",
       "      <td>112</td>\n",
       "      <td>81</td>\n",
       "      <td>29</td>\n",
       "      <td>217</td>\n",
       "      <td>29</td>\n",
       "      <td>139</td>\n",
       "      <td>28</td>\n",
       "    </tr>\n",
       "    <tr>\n",
       "      <th>470</th>\n",
       "      <td>79</td>\n",
       "      <td>112</td>\n",
       "      <td>110</td>\n",
       "      <td>108</td>\n",
       "      <td>107</td>\n",
       "      <td>109</td>\n",
       "      <td>110</td>\n",
       "      <td>112</td>\n",
       "      <td>112</td>\n",
       "      <td>117</td>\n",
       "      <td>...</td>\n",
       "      <td>147</td>\n",
       "      <td>147</td>\n",
       "      <td>146</td>\n",
       "      <td>147</td>\n",
       "      <td>110</td>\n",
       "      <td>41</td>\n",
       "      <td>186</td>\n",
       "      <td>134</td>\n",
       "      <td>140</td>\n",
       "      <td>130</td>\n",
       "    </tr>\n",
       "  </tbody>\n",
       "</table>\n",
       "<p>10 rows × 109828 columns</p>\n",
       "</div>"
      ],
      "text/plain": [
       "      pixel0  pixel1  pixel2  pixel3  pixel4  pixel5  pixel6  pixel7  pixel8  \\\n",
       "30       116     162     162     160     161     159     161     162     161   \n",
       "668       96     152     154     155     156     157     158     161     162   \n",
       "98        64      74      62      59      57      58      59      59      57   \n",
       "280       67      80      68      66      64      63      66      67      65   \n",
       "1518     122     184     185     186     190     186     186     174     153   \n",
       "710       73     109     106     107     107     111     112     110     111   \n",
       "77       118     156     152     152     149     148     151     148     150   \n",
       "241       65      94      88      86      81      83      81      83      88   \n",
       "1450     128     218     234     234     236     242     234     238     236   \n",
       "470       79     112     110     108     107     109     110     112     112   \n",
       "\n",
       "      pixel9  ...  pixel109818  pixel109819  pixel109820  pixel109821  \\\n",
       "30       162  ...          115          116          117          119   \n",
       "668      163  ...          120          120          119          122   \n",
       "98        56  ...          200          197          192          190   \n",
       "280       61  ...          151          158          156          151   \n",
       "1518     139  ...           88           84           87           91   \n",
       "710      110  ...            7            7            9           13   \n",
       "77       152  ...          104          104          106          107   \n",
       "241       82  ...          200          207          205          196   \n",
       "1450     234  ...           23           17           72          112   \n",
       "470      117  ...          147          147          146          147   \n",
       "\n",
       "      pixel109822  pixel109823   LX   LY   RX   RY  \n",
       "30             96           55  209  117  152  121  \n",
       "668            89           34  211  120  154  116  \n",
       "98            142           58  233  114  170  115  \n",
       "280           120           46  242  122  196  117  \n",
       "1518           69           36  228  141  157  135  \n",
       "710             9            1  259   96  184   90  \n",
       "77             89           53  235  143  150  147  \n",
       "241           156           55  251   98  202   98  \n",
       "1450           81           29  217   29  139   28  \n",
       "470           110           41  186  134  140  130  \n",
       "\n",
       "[10 rows x 109828 columns]"
      ]
     },
     "execution_count": 15,
     "metadata": {},
     "output_type": "execute_result"
    }
   ],
   "source": [
    "df_BioIdFace.sample(10)"
   ]
  },
  {
   "cell_type": "code",
   "execution_count": 121,
   "metadata": {},
   "outputs": [],
   "source": [
    "#gera arquivo csv\n",
    "df_BioIdFace.to_csv('BioIdFace.csv',index=False)"
   ]
  },
  {
   "cell_type": "markdown",
   "metadata": {},
   "source": [
    "# Regression analysis"
   ]
  },
  {
   "cell_type": "markdown",
   "metadata": {},
   "source": [
    "Splitting training set (1300 pictures) and test set (221 pictures)"
   ]
  },
  {
   "cell_type": "code",
   "execution_count": 23,
   "metadata": {},
   "outputs": [],
   "source": [
    "X_train=Pic[:1300,:]\n",
    "Y_train=Pos[:1300,:]\n",
    "X_test=Pic[1300:,:]\n",
    "Y_test=Pos[1300:,:]"
   ]
  },
  {
   "cell_type": "markdown",
   "metadata": {},
   "source": [
    "Using decision Tree Regressor"
   ]
  },
  {
   "cell_type": "code",
   "execution_count": 24,
   "metadata": {},
   "outputs": [],
   "source": [
    "from sklearn.tree import DecisionTreeRegressor"
   ]
  },
  {
   "cell_type": "code",
   "execution_count": 25,
   "metadata": {},
   "outputs": [
    {
     "data": {
      "text/plain": [
       "DecisionTreeRegressor(max_depth=5)"
      ]
     },
     "execution_count": 25,
     "metadata": {},
     "output_type": "execute_result"
    }
   ],
   "source": [
    "regressor_1=DecisionTreeRegressor(max_depth=5)\n",
    "regressor_1.fit(X_train,Y_train)"
   ]
  },
  {
   "cell_type": "code",
   "execution_count": 26,
   "metadata": {},
   "outputs": [],
   "source": [
    "#Predicting the test set\n",
    "Y_predict=regressor_1.predict(X_test)"
   ]
  },
  {
   "cell_type": "code",
   "execution_count": 27,
   "metadata": {},
   "outputs": [
    {
     "data": {
      "text/plain": [
       "754.7457492275274"
      ]
     },
     "execution_count": 27,
     "metadata": {},
     "output_type": "execute_result"
    }
   ],
   "source": [
    "#comparing the prediction with the results\n",
    "np.linalg.norm(Y_predict-Y_test)"
   ]
  },
  {
   "cell_type": "code",
   "execution_count": 28,
   "metadata": {},
   "outputs": [
    {
     "name": "stdout",
     "output_type": "stream",
     "text": [
      "[226  72 173  74]\n",
      "[235  95 184  95]\n"
     ]
    }
   ],
   "source": [
    "print(Y_predict[125,:].astype(\"uint16\"))\n",
    "print(Y_test[125,:])\n"
   ]
  },
  {
   "cell_type": "markdown",
   "metadata": {},
   "source": [
    "Using support vector regressors"
   ]
  },
  {
   "cell_type": "code",
   "execution_count": 113,
   "metadata": {},
   "outputs": [],
   "source": [
    "from sklearn import svm\n",
    "from sklearn.multioutput import MultiOutputRegressor"
   ]
  },
  {
   "cell_type": "code",
   "execution_count": 114,
   "metadata": {},
   "outputs": [
    {
     "data": {
      "text/plain": [
       "MultiOutputRegressor(estimator=SVR())"
      ]
     },
     "execution_count": 114,
     "metadata": {},
     "output_type": "execute_result"
    }
   ],
   "source": [
    "regressor_2=MultiOutputRegressor(svm.SVR())\n",
    "regressor_2.fit(X_train,Y_train)"
   ]
  },
  {
   "cell_type": "code",
   "execution_count": 115,
   "metadata": {},
   "outputs": [],
   "source": [
    "Y_predict=regressor_2.predict(X_test)"
   ]
  },
  {
   "cell_type": "code",
   "execution_count": 116,
   "metadata": {},
   "outputs": [
    {
     "data": {
      "text/plain": [
       "616.8711764791814"
      ]
     },
     "execution_count": 116,
     "metadata": {},
     "output_type": "execute_result"
    }
   ],
   "source": [
    "#comparing the prediction with the results\n",
    "np.linalg.norm(Y_predict-Y_test)"
   ]
  },
  {
   "cell_type": "code",
   "execution_count": 117,
   "metadata": {},
   "outputs": [
    {
     "name": "stdout",
     "output_type": "stream",
     "text": [
      "[223  83 169  84]\n",
      "[235  95 184  95]\n"
     ]
    }
   ],
   "source": [
    "print(Y_predict[125,:].astype('uint16'))\n",
    "print(Y_test[125,:])"
   ]
  },
  {
   "cell_type": "markdown",
   "metadata": {},
   "source": [
    "Using extra tree regressor"
   ]
  },
  {
   "cell_type": "code",
   "execution_count": 46,
   "metadata": {},
   "outputs": [],
   "source": [
    "from sklearn.ensemble import ExtraTreesRegressor"
   ]
  },
  {
   "cell_type": "code",
   "execution_count": 47,
   "metadata": {},
   "outputs": [
    {
     "data": {
      "text/plain": [
       "ExtraTreesRegressor(max_features=32, n_estimators=10, random_state=0)"
      ]
     },
     "execution_count": 47,
     "metadata": {},
     "output_type": "execute_result"
    }
   ],
   "source": [
    "regressor_3=ExtraTreesRegressor(n_estimators=10, max_features=32, random_state=0)\n",
    "regressor_3.fit(X_train,Y_train)"
   ]
  },
  {
   "cell_type": "code",
   "execution_count": 48,
   "metadata": {},
   "outputs": [],
   "source": [
    "Y_predict=regressor_3.predict(X_test)"
   ]
  },
  {
   "cell_type": "code",
   "execution_count": 49,
   "metadata": {},
   "outputs": [
    {
     "data": {
      "text/plain": [
       "620.4999355358548"
      ]
     },
     "execution_count": 49,
     "metadata": {},
     "output_type": "execute_result"
    }
   ],
   "source": [
    "#comparing the prediction with the results\n",
    "np.linalg.norm(Y_predict-Y_test)"
   ]
  },
  {
   "cell_type": "code",
   "execution_count": 51,
   "metadata": {},
   "outputs": [
    {
     "name": "stdout",
     "output_type": "stream",
     "text": [
      "[227  73 169  75]\n",
      "[235  95 184  95]\n"
     ]
    }
   ],
   "source": [
    "print(Y_predict[125,:].astype('uint16'))\n",
    "print(Y_test[125,:])"
   ]
  },
  {
   "cell_type": "markdown",
   "metadata": {},
   "source": [
    "Using K neighbor regressor"
   ]
  },
  {
   "cell_type": "code",
   "execution_count": 52,
   "metadata": {},
   "outputs": [],
   "source": [
    "from sklearn.neighbors import KNeighborsRegressor"
   ]
  },
  {
   "cell_type": "code",
   "execution_count": 53,
   "metadata": {},
   "outputs": [
    {
     "data": {
      "text/plain": [
       "KNeighborsRegressor()"
      ]
     },
     "execution_count": 53,
     "metadata": {},
     "output_type": "execute_result"
    }
   ],
   "source": [
    "regressor_4=KNeighborsRegressor()\n",
    "regressor_4.fit(X_train,Y_train)"
   ]
  },
  {
   "cell_type": "code",
   "execution_count": 54,
   "metadata": {},
   "outputs": [],
   "source": [
    "Y_predict=regressor_4.predict(X_test)"
   ]
  },
  {
   "cell_type": "code",
   "execution_count": 55,
   "metadata": {},
   "outputs": [
    {
     "data": {
      "text/plain": [
       "671.5872541970998"
      ]
     },
     "execution_count": 55,
     "metadata": {},
     "output_type": "execute_result"
    }
   ],
   "source": [
    "#comparing the prediction with the results\n",
    "np.linalg.norm(Y_predict-Y_test)"
   ]
  },
  {
   "cell_type": "code",
   "execution_count": 56,
   "metadata": {},
   "outputs": [
    {
     "name": "stdout",
     "output_type": "stream",
     "text": [
      "[229  66 181  67]\n",
      "[235  95 184  95]\n"
     ]
    }
   ],
   "source": [
    "print(Y_predict[125,:].astype('uint16'))\n",
    "print(Y_test[125,:])"
   ]
  },
  {
   "cell_type": "markdown",
   "metadata": {},
   "source": [
    "Using linear regression"
   ]
  },
  {
   "cell_type": "code",
   "execution_count": 57,
   "metadata": {},
   "outputs": [],
   "source": [
    "from sklearn.linear_model import LinearRegression"
   ]
  },
  {
   "cell_type": "code",
   "execution_count": 58,
   "metadata": {},
   "outputs": [
    {
     "data": {
      "text/plain": [
       "LinearRegression()"
      ]
     },
     "execution_count": 58,
     "metadata": {},
     "output_type": "execute_result"
    }
   ],
   "source": [
    "regressor_5=LinearRegression()\n",
    "regressor_5.fit(X_train,Y_train)"
   ]
  },
  {
   "cell_type": "code",
   "execution_count": 59,
   "metadata": {},
   "outputs": [],
   "source": [
    "Y_predict=regressor_5.predict(X_test)"
   ]
  },
  {
   "cell_type": "code",
   "execution_count": 60,
   "metadata": {},
   "outputs": [
    {
     "data": {
      "text/plain": [
       "97731597533.9582"
      ]
     },
     "execution_count": 60,
     "metadata": {},
     "output_type": "execute_result"
    }
   ],
   "source": [
    "#comparing the prediction with the results\n",
    "np.linalg.norm(Y_predict-Y_test)"
   ]
  },
  {
   "cell_type": "code",
   "execution_count": 61,
   "metadata": {},
   "outputs": [
    {
     "name": "stdout",
     "output_type": "stream",
     "text": [
      "[227   0   0   0]\n",
      "[235  95 184  95]\n"
     ]
    }
   ],
   "source": [
    "print(Y_predict[125,:].astype('uint16'))\n",
    "print(Y_test[125,:])"
   ]
  },
  {
   "cell_type": "code",
   "execution_count": 63,
   "metadata": {},
   "outputs": [
    {
     "data": {
      "text/plain": [
       "array([ 2.27474249e+02,  1.06958139e+10,  6.48618227e+09, -6.48618203e+09])"
      ]
     },
     "execution_count": 63,
     "metadata": {},
     "output_type": "execute_result"
    }
   ],
   "source": [
    "Y_predict[125,:]"
   ]
  },
  {
   "cell_type": "markdown",
   "metadata": {},
   "source": [
    "Using Ridge CV"
   ]
  },
  {
   "cell_type": "code",
   "execution_count": 64,
   "metadata": {},
   "outputs": [],
   "source": [
    "from sklearn.linear_model import RidgeCV"
   ]
  },
  {
   "cell_type": "code",
   "execution_count": 65,
   "metadata": {},
   "outputs": [
    {
     "data": {
      "text/plain": [
       "RidgeCV(alphas=array([ 0.1,  1. , 10. ]))"
      ]
     },
     "execution_count": 65,
     "metadata": {},
     "output_type": "execute_result"
    }
   ],
   "source": [
    "regressor_6=RidgeCV()\n",
    "regressor_6.fit(X_train, Y_train)"
   ]
  },
  {
   "cell_type": "code",
   "execution_count": 66,
   "metadata": {},
   "outputs": [],
   "source": [
    "Y_predict=regressor_6.predict(X_test)"
   ]
  },
  {
   "cell_type": "code",
   "execution_count": 67,
   "metadata": {},
   "outputs": [
    {
     "data": {
      "text/plain": [
       "739.9141407738517"
      ]
     },
     "execution_count": 67,
     "metadata": {},
     "output_type": "execute_result"
    }
   ],
   "source": [
    "#comparing the prediction with the results\n",
    "np.linalg.norm(Y_predict-Y_test)"
   ]
  },
  {
   "cell_type": "code",
   "execution_count": 68,
   "metadata": {},
   "outputs": [
    {
     "name": "stdout",
     "output_type": "stream",
     "text": [
      "[227  83 164  79]\n",
      "[235  95 184  95]\n"
     ]
    }
   ],
   "source": [
    "print(Y_predict[125,:].astype('uint16'))\n",
    "print(Y_test[125,:])"
   ]
  },
  {
   "cell_type": "markdown",
   "metadata": {},
   "source": [
    "Using Extra Trees one more time"
   ]
  },
  {
   "cell_type": "code",
   "execution_count": 78,
   "metadata": {},
   "outputs": [
    {
     "data": {
      "text/plain": [
       "ExtraTreesRegressor(max_features=500, n_estimators=80, random_state=0)"
      ]
     },
     "execution_count": 78,
     "metadata": {},
     "output_type": "execute_result"
    }
   ],
   "source": [
    "regressor_7=ExtraTreesRegressor(n_estimators=80, max_features=500, random_state=0)\n",
    "regressor_7.fit(X_train,Y_train)"
   ]
  },
  {
   "cell_type": "code",
   "execution_count": 79,
   "metadata": {},
   "outputs": [],
   "source": [
    "Y_predict=regressor_7.predict(X_test)"
   ]
  },
  {
   "cell_type": "code",
   "execution_count": 80,
   "metadata": {},
   "outputs": [
    {
     "data": {
      "text/plain": [
       "584.7125041085897"
      ]
     },
     "execution_count": 80,
     "metadata": {},
     "output_type": "execute_result"
    }
   ],
   "source": [
    "#comparing the prediction with the results\n",
    "np.linalg.norm(Y_predict-Y_test)"
   ]
  },
  {
   "cell_type": "code",
   "execution_count": 81,
   "metadata": {},
   "outputs": [
    {
     "name": "stdout",
     "output_type": "stream",
     "text": [
      "[228  76 172  76]\n",
      "[235  95 184  95]\n"
     ]
    }
   ],
   "source": [
    "print(Y_predict[125,:].astype('uint16'))\n",
    "print(Y_test[125,:])"
   ]
  },
  {
   "cell_type": "markdown",
   "metadata": {},
   "source": [
    "Using PLS regression"
   ]
  },
  {
   "cell_type": "code",
   "execution_count": 84,
   "metadata": {},
   "outputs": [],
   "source": [
    "from sklearn.cross_decomposition import PLSRegression"
   ]
  },
  {
   "cell_type": "code",
   "execution_count": 105,
   "metadata": {},
   "outputs": [
    {
     "data": {
      "text/plain": [
       "PLSRegression(n_components=8)"
      ]
     },
     "execution_count": 105,
     "metadata": {},
     "output_type": "execute_result"
    }
   ],
   "source": [
    "regressor_8=PLSRegression(n_components=8)\n",
    "regressor_8.fit(X_train,Y_train)"
   ]
  },
  {
   "cell_type": "code",
   "execution_count": 106,
   "metadata": {},
   "outputs": [],
   "source": [
    "Y_predict=regressor_8.predict(X_test)"
   ]
  },
  {
   "cell_type": "code",
   "execution_count": 107,
   "metadata": {},
   "outputs": [
    {
     "data": {
      "text/plain": [
       "592.2286695393541"
      ]
     },
     "execution_count": 107,
     "metadata": {},
     "output_type": "execute_result"
    }
   ],
   "source": [
    "#comparing the prediction with the results\n",
    "np.linalg.norm(Y_predict-Y_test)"
   ]
  },
  {
   "cell_type": "code",
   "execution_count": 108,
   "metadata": {},
   "outputs": [
    {
     "name": "stdout",
     "output_type": "stream",
     "text": [
      "[220  70 157  71]\n",
      "[235  95 184  95]\n"
     ]
    }
   ],
   "source": [
    "print(Y_predict[125,:].astype('uint16'))\n",
    "print(Y_test[125,:])"
   ]
  },
  {
   "cell_type": "markdown",
   "metadata": {},
   "source": [
    "Using Multi-layer Perceptron regressor."
   ]
  },
  {
   "cell_type": "code",
   "execution_count": 118,
   "metadata": {},
   "outputs": [],
   "source": [
    "from sklearn.neural_network import MLPRegressor"
   ]
  },
  {
   "cell_type": "code",
   "execution_count": 121,
   "metadata": {},
   "outputs": [
    {
     "name": "stderr",
     "output_type": "stream",
     "text": [
      "C:\\Users\\fernando\\anaconda3\\lib\\site-packages\\sklearn\\neural_network\\_multilayer_perceptron.py:582: ConvergenceWarning: Stochastic Optimizer: Maximum iterations (100) reached and the optimization hasn't converged yet.\n",
      "  warnings.warn(\n"
     ]
    },
    {
     "data": {
      "text/plain": [
       "MLPRegressor(max_iter=100, random_state=1)"
      ]
     },
     "execution_count": 121,
     "metadata": {},
     "output_type": "execute_result"
    }
   ],
   "source": [
    "regressor_9= MLPRegressor(random_state=1, max_iter=100)\n",
    "regressor_9.fit(X_train, Y_train)"
   ]
  },
  {
   "cell_type": "code",
   "execution_count": 122,
   "metadata": {},
   "outputs": [],
   "source": [
    "Y_predict=regressor_9.predict(X_test)"
   ]
  },
  {
   "cell_type": "code",
   "execution_count": 123,
   "metadata": {},
   "outputs": [
    {
     "data": {
      "text/plain": [
       "4475.921213917365"
      ]
     },
     "execution_count": 123,
     "metadata": {},
     "output_type": "execute_result"
    }
   ],
   "source": [
    "#comparing the prediction with the results\n",
    "np.linalg.norm(Y_predict-Y_test)"
   ]
  },
  {
   "cell_type": "code",
   "execution_count": 124,
   "metadata": {},
   "outputs": [
    {
     "name": "stdout",
     "output_type": "stream",
     "text": [
      "[0 0 0 0]\n",
      "[235  95 184  95]\n"
     ]
    }
   ],
   "source": [
    "print(Y_predict[125,:].astype('uint16'))\n",
    "print(Y_test[125,:])"
   ]
  },
  {
   "cell_type": "code",
   "execution_count": null,
   "metadata": {},
   "outputs": [],
   "source": []
  }
 ],
 "metadata": {
  "kernelspec": {
   "display_name": "Python 3",
   "language": "python",
   "name": "python3"
  },
  "language_info": {
   "codemirror_mode": {
    "name": "ipython",
    "version": 3
   },
   "file_extension": ".py",
   "mimetype": "text/x-python",
   "name": "python",
   "nbconvert_exporter": "python",
   "pygments_lexer": "ipython3",
   "version": "3.8.3"
  }
 },
 "nbformat": 4,
 "nbformat_minor": 4
}
